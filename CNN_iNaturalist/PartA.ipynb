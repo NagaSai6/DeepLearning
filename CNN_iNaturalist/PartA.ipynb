{
 "cells": [
  {
   "cell_type": "code",
   "execution_count": 1,
   "metadata": {},
   "outputs": [],
   "source": [
    "import tensorflow as tf\n",
    "from tensorflow import keras\n",
    "from tensorflow.keras.preprocessing.image import ImageDataGenerator\n",
    "import matplotlib.pyplot as plt\n",
    "import numpy as np"
   ]
  },
  {
   "cell_type": "code",
   "execution_count": 2,
   "metadata": {},
   "outputs": [],
   "source": [
    "import wandb\n",
    "from wandb.keras import WandbCallback"
   ]
  },
  {
   "cell_type": "code",
   "execution_count": 3,
   "metadata": {},
   "outputs": [
    {
     "name": "stdout",
     "output_type": "stream",
     "text": [
      "Num GPUs Available:  1\n"
     ]
    }
   ],
   "source": [
    "physical_devices=tf.config.experimental.list_physical_devices('GPU')\n",
    "print('Num GPUs Available: ',len(physical_devices))\n",
    "tf.config.experimental.set_memory_growth(physical_devices[0],True)"
   ]
  },
  {
   "cell_type": "markdown",
   "metadata": {},
   "source": [
    "### Model"
   ]
  },
  {
   "cell_type": "code",
   "execution_count": 4,
   "metadata": {},
   "outputs": [],
   "source": [
    "# num_filters is LIST \n",
    "# size_filter is LIST of TUPLES\n",
    "# act_function is LIST\n",
    "\n",
    "def build_model(num_conv_layers,num_filters,size_filter,act_function,num_neurons_dense,input_shape=[224,224,3]):\n",
    "    model=keras.models.Sequential()\n",
    "    model.add(keras.Input(shape=input_shape))\n",
    "    for i in range(num_conv_layers):\n",
    "        model.add(keras.layers.Conv2D(num_filters[i],size_filter[i],activation=act_function[i],name='Layer_'+str(i+1)))\n",
    "        model.add(keras.layers.MaxPooling2D(pool_size=(2,2)))\n",
    "    model.add(keras.layers.Flatten())\n",
    "    model.add(keras.layers.Dense(num_neurons_dense,activation=\"relu\"))\n",
    "    model.add(keras.layers.Dense(10,activation='softmax'))\n",
    "    return model"
   ]
  },
  {
   "cell_type": "markdown",
   "metadata": {},
   "source": [
    "### Data"
   ]
  },
  {
   "cell_type": "code",
   "execution_count": 5,
   "metadata": {},
   "outputs": [],
   "source": [
    "train_path='inaturalist_12K/train'\n",
    "val_path='inaturalist_12K/val'\n",
    "test_path='inaturalist_12K/test'"
   ]
  },
  {
   "cell_type": "code",
   "execution_count": 6,
   "metadata": {},
   "outputs": [],
   "source": [
    "train_val_datagen=ImageDataGenerator(\n",
    "    rescale=1./255,\n",
    "    shear_range=0.2,\n",
    "    zoom_range=0.2,\n",
    "    horizontal_flip=True)\n",
    "\n",
    "test_datagen=ImageDataGenerator(\n",
    "    rescale=1./255)"
   ]
  },
  {
   "cell_type": "code",
   "execution_count": 7,
   "metadata": {},
   "outputs": [],
   "source": [
    "labels={0: 'Amphibia',\n",
    " 1: 'Animalia',\n",
    " 2: 'Arachnida',\n",
    " 3: 'Aves',\n",
    " 4: 'Fungi',\n",
    " 5: 'Insecta',\n",
    " 6: 'Mammalia',\n",
    " 7: 'Mollusca',\n",
    " 8: 'Plantae',\n",
    " 9: 'Reptilia'}"
   ]
  },
  {
   "cell_type": "code",
   "execution_count": 3,
   "metadata": {},
   "outputs": [
    {
     "data": {
      "text/plain": [
       "'\\nlabels=(train_generator.class_indices)\\nlabels=dict((index,class_name) for (class_name,index) in labels.items())\\n'"
      ]
     },
     "execution_count": 3,
     "metadata": {},
     "output_type": "execute_result"
    }
   ],
   "source": [
    "'''\n",
    "labels=(train_generator.class_indices)\n",
    "labels=dict((index,class_name) for (class_name,index) in labels.items())\n",
    "'''"
   ]
  },
  {
   "cell_type": "code",
   "execution_count": 12,
   "metadata": {},
   "outputs": [
    {
     "data": {
      "text/plain": [
       "'\\nplt.figure(figsize=(10,10))\\nfor i in range(Batch_Size):\\n    plt.subplot(2,2,i+1)\\n    plt.imshow(X[i])\\n    index=np.argmax(y[i])\\n    plt.title(labels[index])\\nplt.show()\\n'"
      ]
     },
     "execution_count": 12,
     "metadata": {},
     "output_type": "execute_result"
    }
   ],
   "source": [
    "#X,y=val_generator.next()\n",
    "'''\n",
    "plt.figure(figsize=(10,10))\n",
    "for i in range(Batch_Size):\n",
    "    plt.subplot(2,2,i+1)\n",
    "    plt.imshow(X[i])\n",
    "    index=np.argmax(y[i])\n",
    "    plt.title(labels[index])\n",
    "plt.show()\n",
    "'''"
   ]
  },
  {
   "cell_type": "markdown",
   "metadata": {},
   "source": [
    "### Wanbd + Compiling + Fitting"
   ]
  },
  {
   "cell_type": "code",
   "execution_count": 8,
   "metadata": {},
   "outputs": [],
   "source": [
    "def train():\n",
    "    \n",
    "    config_defaults={'batch_size':32,\n",
    "                    'learning_rate':0.01,\n",
    "                    'epochs':1}\n",
    "    \n",
    "    wandb.init(project='assignment2_trying',config=config_defaults)\n",
    "    wandb.run.name='BS_'+str(wandb.config.batch_size)+'-LR_'+str(wandb.config.learning_rate)\n",
    "    \n",
    "    model2=build_model(2,[16,16],[(3,3),(3,3)],[\"relu\",\"relu\"],256)\n",
    "    #model2.summary()\n",
    "    \n",
    "    model2.compile(loss=keras.losses.CategoricalCrossentropy(),\n",
    "                   optimizer=keras.optimizers.Adam(learning_rate=wandb.config.learning_rate),\n",
    "                   metrics=['accuracy'])\n",
    "    \n",
    "    train_generator=train_val_datagen.flow_from_directory(directory=train_path,\n",
    "                                                      target_size=(224,224),\n",
    "                                                      color_mode='rgb',\n",
    "                                                      batch_size=wandb.config.batch_size,\n",
    "                                                      class_mode='categorical',\n",
    "                                                      shuffle=True,seed=10)\n",
    "    \n",
    "    val_generator=train_val_datagen.flow_from_directory(directory=val_path,\n",
    "                                                      target_size=(224,224),\n",
    "                                                      color_mode='rgb',\n",
    "                                                      batch_size=wandb.config.batch_size,\n",
    "                                                      class_mode='categorical',\n",
    "                                                      shuffle=True,seed=10)\n",
    "    \n",
    "    STEP_SIZE_TRAIN=train_generator.n//train_generator.batch_size\n",
    "    STEP_SIZE_VAL=val_generator.n//val_generator.batch_size\n",
    "    \n",
    "    model2.fit_generator(generator=train_generator,\n",
    "                         steps_per_epoch=STEP_SIZE_TRAIN,\n",
    "                         validation_data=val_generator,\n",
    "                         validation_steps=STEP_SIZE_VAL,\n",
    "                         epochs=wandb.config.epochs,\n",
    "                         callbacks=[WandbCallback()])"
   ]
  },
  {
   "cell_type": "markdown",
   "metadata": {},
   "source": [
    "### Wandb Sweep"
   ]
  },
  {
   "cell_type": "code",
   "execution_count": 9,
   "metadata": {},
   "outputs": [],
   "source": [
    "sweep_config = {\n",
    "  'method': 'random', \n",
    "  'metric': {\n",
    "      'name': 'val_loss',\n",
    "      'goal': 'minimize'\n",
    "  },\n",
    "  'early_terminate':{\n",
    "      'type': 'hyperband',\n",
    "      'min_iter': 5\n",
    "  },\n",
    "  'parameters': {\n",
    "      'batch_size': {\n",
    "          'values': [8, 16, 32, 64, 128, 256]\n",
    "      },\n",
    "      'learning_rate':{\n",
    "          'values': [0.01, 0.005, 0.001, 0.0005, 0.0001]\n",
    "      }\n",
    "  }\n",
    "}"
   ]
  },
  {
   "cell_type": "code",
   "execution_count": 10,
   "metadata": {},
   "outputs": [
    {
     "name": "stderr",
     "output_type": "stream",
     "text": [
      "Failed to detect the name of this notebook, you can set it manually with the WANDB_NOTEBOOK_NAME environment variable to enable code saving.\n"
     ]
    },
    {
     "name": "stdout",
     "output_type": "stream",
     "text": [
      "Create sweep with ID: 2aixr9w6\n",
      "Sweep URL: https://wandb.ai/prabashreddy/assignment2_trying/sweeps/2aixr9w6\n"
     ]
    }
   ],
   "source": [
    "sweep_id=wandb.sweep(sweep_config,project='assignment2_trying')"
   ]
  },
  {
   "cell_type": "code",
   "execution_count": null,
   "metadata": {},
   "outputs": [],
   "source": [
    "wandb.agent(sweep_id,function=train)"
   ]
  },
  {
   "cell_type": "code",
   "execution_count": null,
   "metadata": {},
   "outputs": [],
   "source": []
  },
  {
   "cell_type": "code",
   "execution_count": null,
   "metadata": {},
   "outputs": [],
   "source": []
  },
  {
   "cell_type": "code",
   "execution_count": null,
   "metadata": {},
   "outputs": [],
   "source": []
  }
 ],
 "metadata": {
  "kernelspec": {
   "display_name": "Python 3",
   "language": "python",
   "name": "python3"
  },
  "language_info": {
   "codemirror_mode": {
    "name": "ipython",
    "version": 3
   },
   "file_extension": ".py",
   "mimetype": "text/x-python",
   "name": "python",
   "nbconvert_exporter": "python",
   "pygments_lexer": "ipython3",
   "version": "3.8.8"
  }
 },
 "nbformat": 4,
 "nbformat_minor": 4
}
